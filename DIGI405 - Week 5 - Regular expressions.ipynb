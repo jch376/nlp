{
 "cells": [
  {
   "cell_type": "markdown",
   "metadata": {},
   "source": [
    "# DIGI405 - Regular expressions - a super-quick introduction\n",
    "\n",
    "## What are regular expressions?\n",
    "\n",
    "Regular expressions are sequences of characters that are used to search for a set of strings in a larger text.\n",
    "\n",
    "## Where can I use them?\n",
    "\n",
    "In this notebook we are working with Python, but they can be applied using other programming languages, text editors and command-line tools. \n",
    "\n",
    "## Why are they useful for text analysis applications?\n",
    "\n",
    "You can use them in pre-processing to clean your data (e.g. removing menus or headers from a web-page you have scraped). You can use regular expressions to normalise your text (e.g. replacing different ways in which a Russian name like Евгений is rendered in English, Yevgeny, Yevgeniy, Evgeny, Evgeni, Evgeniy, Eugeny, with a standardised form). You can use regular expressions to tokenise text or extract features for analysis or modelling.\n",
    "\n",
    "## Super-quick introduction through examples\n",
    "\n",
    "This notebook will take you through some examples of using regular expressions using Python. This is intended to be a brief introduction. You will find lots of opportunities to put regular expressions to use in collecting and preparing texts for analysis."
   ]
  },
  {
   "cell_type": "markdown",
   "metadata": {},
   "source": [
    "We first need to import Python's library for regular expressions. You can find documentation here: https://docs.python.org/3/library/re.html and you will be able to find lots of general tutorials on all the features of the `re` library."
   ]
  },
  {
   "cell_type": "code",
   "execution_count": null,
   "metadata": {},
   "outputs": [],
   "source": [
    "import re"
   ]
  },
  {
   "cell_type": "markdown",
   "metadata": {},
   "source": [
    "As some example text we will use an opening portion of _Price and Prejudice_ by Jane Austen. This text was retrieved from https://www.gutenberg.org/ebooks/42671.txt.utf-8."
   ]
  },
  {
   "cell_type": "code",
   "execution_count": null,
   "metadata": {},
   "outputs": [],
   "source": [
    "sample = '''It is a truth universally acknowledged, that a single man in possession\n",
    "of a good fortune, must be in want of a wife.\n",
    "\n",
    "However little known the feelings or views of such a man may be on his\n",
    "first entering a neighbourhood, this truth is so well fixed in the minds\n",
    "of the surrounding families, that he is considered as the rightful\n",
    "property of some one or other of their daughters.\n",
    "\n",
    "\"My dear Mr. Bennet,\" said his lady to him one day, \"have you heard that\n",
    "Netherfield Park is let at last?\"\n",
    "\n",
    "Mr. Bennet replied that he had not.\n",
    "\n",
    "\"But it is,\" returned she; \"for Mrs. Long has just been here, and she\n",
    "told me all about it.\"\n",
    "\n",
    "Mr. Bennet made no answer.\n",
    "\n",
    "\"Do not you want to know who has taken it?\" cried his wife impatiently.\n",
    "\n",
    "\"_You_ want to tell me, and I have no objection to hearing it.\"\n",
    "\n",
    "This was invitation enough. \n",
    "'''"
   ]
  },
  {
   "cell_type": "markdown",
   "metadata": {},
   "source": [
    "### Match a sequence of characters\n",
    "\n",
    "In the first example below we use the findall function to find all the instances that `Bennet` is mentioned and provide a total count of matches. Change the value of pattern to try some other text you want to search for (e.g. another word)."
   ]
  },
  {
   "cell_type": "code",
   "execution_count": null,
   "metadata": {},
   "outputs": [],
   "source": [
    "pattern = 'Bennet' # set the regular expression\n",
    "result = re.findall(pattern, sample) # this finds all instances of the pattern in sample and returns a list of strings\n",
    "print(result) # print the list of results\n",
    "print('Total matches:',len(result)) # print a count of the number of results"
   ]
  },
  {
   "cell_type": "markdown",
   "metadata": {},
   "source": [
    "### Case insensitive regular expressions\n",
    "\n",
    "If you search for `this` using the code above you will only get one match even though there are two instances of `this`. This is because the search is case sensitive. If you want a case insensitive search you can do so like the example below. Try changing the pattern to other text you want to search for."
   ]
  },
  {
   "cell_type": "code",
   "execution_count": null,
   "metadata": {},
   "outputs": [],
   "source": [
    "pattern = 'this'\n",
    "result = re.findall(pattern, sample, re.IGNORECASE)\n",
    "print(result)\n",
    "print('Total matches:',len(result))"
   ]
  },
  {
   "cell_type": "markdown",
   "metadata": {},
   "source": [
    "### Matching words\n",
    "\n",
    "If you search for `he` using the code above you get 14 matches. What is the problem with this search? Have a think about it and look at the sample from _Price and Prejudice_ above and then read on.\n",
    "\n",
    "There are two instances of `he`. However, there are lots of instances of `he` used in words like `the` or `she`. The pattern below matches distinct instances of the word `he`. This regular expression contains two instances of `\\b` - these match the boundaries between word characters and spaces or punctuation."
   ]
  },
  {
   "cell_type": "code",
   "execution_count": null,
   "metadata": {},
   "outputs": [],
   "source": [
    "pattern = r'\\bhe\\b' # in the rest of the examples the pattern is defined as a raw string - see https://tinyurl.com/nhrarzv\n",
    "result = re.findall(pattern, sample, re.IGNORECASE)\n",
    "print(result)\n",
    "print('Total matches:',len(result))"
   ]
  },
  {
   "cell_type": "markdown",
   "metadata": {},
   "source": [
    "The pattern below includes two new features. Firstly, the `(` and `)` indicate the start and end of a group and specifies the part(s) of the regular expression we want to match. Secondly, `|` allows us to specify multiple conditions. In this case, the regular expression matches the pronouns `he` or `she`. Modify this regular expression to search for the words `he`, `she`, `his`, `her`. "
   ]
  },
  {
   "cell_type": "code",
   "execution_count": null,
   "metadata": {},
   "outputs": [],
   "source": [
    "pattern = r'\\b(he|she)\\b'\n",
    "result = re.findall(pattern, sample, re.IGNORECASE)\n",
    "print(result)\n",
    "print('Total matches:',len(result))"
   ]
  },
  {
   "cell_type": "markdown",
   "metadata": {},
   "source": [
    "### Matching a set of characters\n",
    "\n",
    "We can match a set of characters using `[` and `]`. In the following example I have removed the `re.IGNORECASE`, because we want to match precisely based on case. Replace the `[a]` with the following patterns to see the effects:   \n",
    "`[abc]`  \n",
    "`[a-z]`  \n",
    "`[A-Z]`"
   ]
  },
  {
   "cell_type": "code",
   "execution_count": null,
   "metadata": {},
   "outputs": [],
   "source": [
    "pattern = r'[a]'\n",
    "result = re.findall(pattern, sample)\n",
    "print(result)\n",
    "print('Total matches:',len(result))"
   ]
  },
  {
   "cell_type": "markdown",
   "metadata": {},
   "source": [
    "### Matching multiple characters\n",
    "We are not often interested in characters by themselves like this, but characters in combination. In this example we will match `[a-zA-Z]` i.e. the set of characters in the range A to Z and a to z. \n",
    "\n",
    "There are a number of ways of specifying repeated patterns. For example, the `{3}` in the example below controls the number of [A-Za-z] characters that will be matched. This example matches all the 3-letter words. Replace the `{3}` with the following patterns to see the effects:  \n",
    "`{4}`  \n",
    "`{3,4}`  \n",
    "`{5,}`    "
   ]
  },
  {
   "cell_type": "code",
   "execution_count": null,
   "metadata": {},
   "outputs": [],
   "source": [
    "pattern = r'\\b[a-zA-Z]{3}\\b'\n",
    "result = re.findall(pattern, sample)\n",
    "print(result)\n",
    "print('Total matches:',len(result))"
   ]
  },
  {
   "cell_type": "markdown",
   "metadata": {},
   "source": [
    "In the next example we use a regular expression to extract years from the sample text by matching 4 digit numbers."
   ]
  },
  {
   "cell_type": "code",
   "execution_count": null,
   "metadata": {},
   "outputs": [],
   "source": [
    "# Pride and Prejudice's intro doesn't have numbers - this text from https://en.wikipedia.org/wiki/New_Zealand\n",
    "numbers_sample = '''Sometime between 1250 and 1300, Polynesians settled in the islands that later were named \n",
    "New Zealand and developed a distinctive Māori culture.'''\n",
    "\n",
    "pattern = r'[0-9]{4}' # this could also be written as \\d{4} - \\d matches digits\n",
    "result = re.findall(pattern, numbers_sample)\n",
    "print(result)\n",
    "print('Total matches:',len(result))"
   ]
  },
  {
   "cell_type": "markdown",
   "metadata": {},
   "source": [
    "There are other ways of specifying repetitions:  \n",
    "`+` matches 1 or more characters  \n",
    "`*` matches 0 or more characters  \n",
    "`?` matches 0 or 1 characters  \n",
    "\n",
    "So for example, the following pattern matches words starting with an upper-case character. So the regular expression looks for 1 or more uppercase characters and then 0 or more lowercase characters. Why \"0 or more\"? You can have a word with a single upper-case character e.g. `I`."
   ]
  },
  {
   "cell_type": "code",
   "execution_count": null,
   "metadata": {},
   "outputs": [],
   "source": [
    "pattern = r'\\b[A-Z]+[a-z]*\\b'\n",
    "result = re.findall(pattern, sample)\n",
    "print(result)\n",
    "print('Total matches:',len(result))"
   ]
  },
  {
   "cell_type": "markdown",
   "metadata": {},
   "source": [
    "Here we match any word ending in `ing`:"
   ]
  },
  {
   "cell_type": "code",
   "execution_count": null,
   "metadata": {},
   "outputs": [],
   "source": [
    "pattern = r'\\b[\\w]+ing\\b'\n",
    "result = re.findall(pattern, sample)\n",
    "print(result)\n",
    "print('Total matches:',len(result))"
   ]
  },
  {
   "cell_type": "markdown",
   "metadata": {},
   "source": [
    "### Tokenising text\n",
    "\n",
    "How do we tokenise a text? You are probably aware from looking at the examples in the lecture that strings can be tokenised using regular expressions. There are multiple ways we can do this. In the following example we retrieve tokens based on strings that contain sequences of one or more `\\w` characters. `\\w`  matches any alphanumeric character and here we are matching 1 or more character in a sequence."
   ]
  },
  {
   "cell_type": "code",
   "execution_count": null,
   "metadata": {},
   "outputs": [],
   "source": [
    "pattern = r'\\w+'\n",
    "result = re.findall(pattern, sample)\n",
    "print(result)\n",
    "print('Total matches:',len(result))"
   ]
  },
  {
   "cell_type": "markdown",
   "metadata": {},
   "source": [
    "Why are we using `\\w` instead of `[A-Za-z]`? This is safer for unicode strings. Think about the the word _Māori_, which contains a macron. You can see in the sentence below what happens when we use `[A-Za-z]` to tokenise a simple string."
   ]
  },
  {
   "cell_type": "code",
   "execution_count": null,
   "metadata": {},
   "outputs": [],
   "source": [
    "sample_with_macrons = 'Māori are the tangata whenua – the people of the land. '\n",
    "pattern = r'[A-Za-z]+'\n",
    "result = re.findall(pattern, sample_with_macrons)\n",
    "print('Tokenising based on',pattern)\n",
    "print(result)\n",
    "print('Total matches:',len(result))\n",
    "\n",
    "print()\n",
    "\n",
    "pattern = r'\\w+'\n",
    "result = re.findall(pattern, sample_with_macrons)\n",
    "print('Tokenising based on',pattern)\n",
    "print(result)\n",
    "print('Total matches:',len(result))"
   ]
  },
  {
   "cell_type": "markdown",
   "metadata": {},
   "source": [
    "Remember: there is more than one way to apply regular expressions to tokenise text. Using `\\w+`, the dollar amount in the following sentence would be split into multiple tokens: \"The coffee cost $5.50!\". Take a moment and search google for \"tokenise text regular expression\" for some different patterns you can use to tokenise text and try them in the next cell. Change the `\\w+` pattern to whatever you find."
   ]
  },
  {
   "cell_type": "code",
   "execution_count": null,
   "metadata": {},
   "outputs": [],
   "source": [
    "pattern = r'\\w+'\n",
    "result = re.findall(pattern, sample)\n",
    "print(result)\n",
    "print('Total matches:',len(result))"
   ]
  },
  {
   "cell_type": "markdown",
   "metadata": {},
   "source": [
    "### A more complex application: extracting direct speech\n",
    "\n",
    "The following example does something more complex: extracting direct speech from the introduction to _Pride and Prejudice_. \n",
    "\n",
    "There is lots packed into this short regular expression. \n",
    "\n",
    "This example introduces one function of the `^` character in regular expressions. When `^` is used as the first character in a set of characters, all the characters not in the set will be matched (e.g. `[^a-z]` matches any character other than those in the a to z range). \n",
    "\n",
    "Here we are matching any sequence of characters that: \n",
    "1. `\"` begins with a `\"` character to indicate the start of the direct speech;\n",
    "2. `[^\"]*` is followed by 0 or more instances of any character that is _not_ `\"` ; and, \n",
    "3. `\"` ends with a `\"` character that indicates the end of the direct speech. "
   ]
  },
  {
   "cell_type": "code",
   "execution_count": null,
   "metadata": {},
   "outputs": [],
   "source": [
    "pattern = r'\"[^\"]*\"'\n",
    "result = re.findall(pattern, sample)\n",
    "print(result)\n",
    "print('Total matches:',len(result))"
   ]
  },
  {
   "cell_type": "markdown",
   "metadata": {},
   "source": [
    "### Here are some more resources to help you learn about regular expressions\n",
    "\n",
    "This isn't all the functionality of regular expressions. Take some time to look at the documentation for the [Python re library](https://docs.python.org/3/library/re.html), the reading for [week 5 on regular expressions](https://automatetheboringstuff.com/chapter7/) and sites that allow you to test regular expressions in your browser. For example, https://regex101.com/ has a great interface and has reference material as well (switch the flavour to Python)."
   ]
  },
  {
   "cell_type": "code",
   "execution_count": null,
   "metadata": {},
   "outputs": [],
   "source": []
  }
 ],
 "metadata": {
  "kernelspec": {
   "display_name": "Python 3",
   "language": "python",
   "name": "python3"
  },
  "language_info": {
   "codemirror_mode": {
    "name": "ipython",
    "version": 3
   },
   "file_extension": ".py",
   "mimetype": "text/x-python",
   "name": "python",
   "nbconvert_exporter": "python",
   "pygments_lexer": "ipython3",
   "version": "3.8.5"
  }
 },
 "nbformat": 4,
 "nbformat_minor": 2
}
