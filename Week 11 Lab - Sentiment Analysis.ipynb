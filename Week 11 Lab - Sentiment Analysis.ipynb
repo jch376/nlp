{
 "cells": [
  {
   "cell_type": "markdown",
   "metadata": {},
   "source": [
    "# DIGI405 Lab Class 11: Sentiment Analysis\n",
    "\n",
    "This week’s class will investigate lexicon-based sentiment analysis with Vader (‘Valence Aware Dictionary for sEntiment Reasoning’). Vader is open source software, so you can inspect the code and modify it if you wish. In this week’s lab we will mainly refer to the lexicon.\n",
    "\n",
    "The following cells imports libraries and creates a SentimentIntensityAnalyzer object."
   ]
  },
  {
   "cell_type": "code",
   "execution_count": null,
   "metadata": {},
   "outputs": [],
   "source": [
    "from vaderSentiment.vaderSentiment import SentimentIntensityAnalyzer\n",
    "import pandas as pd\n",
    "pd.set_option('display.max_colwidth', 140)\n",
    "analyzer = SentimentIntensityAnalyzer()"
   ]
  },
  {
   "cell_type": "markdown",
   "metadata": {},
   "source": [
    "Read the \"About the Scoring\" section of the Vader Github README, which explains the scores that are returned by Vader:  \n",
    "https://github.com/cjhutto/vaderSentiment#about-the-scoring\n",
    "\n",
    "**QUESTION:** What range of values of the Compound Score should be associated with a \"neutral\" classification?\n",
    "\n",
    "\n",
    "## Score some text and understand Vader's lexicon and booster/negation rules\n",
    "\n",
    "In the cell below is a short phrase to show you the output of Vader. \n",
    "\n",
    "First, run it on this text and make sure you understand what each number tells us. \n",
    "\n",
    "**ACTIVITY:** Try different text and make sure you understand the scores Vader returns.\n",
    "\n",
    "Try:\n",
    "1. A sentence that is obviously positive like \"The movie is great\"\n",
    "2. A sentence that uses a \"booster\" e.g. \"The movie is really terrible\"\n",
    "3. A sentence that uses negation e.g. \"The movie is not great\". \n",
    "4. Some sentences that attempts to fool Vader. \n",
    "\n",
    "Look at the lexicon and the booster/negation words in code so you get more insight into the scores. \n",
    "\n",
    "The main Vader module (including negations and booster words on lines 48-181): https://github.com/nltk/nltk/blob/develop/nltk/sentiment/vader.py \n",
    "\n",
    "The Vader lexicon, which you can search in your browser or download and use as a text file:\n",
    "https://github.com/cjhutto/vaderSentiment/blob/master/vaderSentiment/vader_lexicon.txt \n",
    "\n",
    "Make sure you are clear what the values in the Vader lexicon actually mean. Here are some examples for your reference:\n",
    "\n",
    "    hope \t1.9 0.53852 [3, 2, 2, 1, 2, 2, 1, 2, 2, 2]\n",
    "    hopeless -2.0 1.78885 [-3, -3, -3, -3, 3, -1, -3, -3, -2, -2]"
   ]
  },
  {
   "cell_type": "code",
   "execution_count": null,
   "metadata": {},
   "outputs": [],
   "source": [
    "example = '''\n",
    "The movie is terrible.\n",
    "'''\n",
    "vs = analyzer.polarity_scores(example)\n",
    "print(str(vs))"
   ]
  },
  {
   "cell_type": "markdown",
   "metadata": {},
   "source": [
    "## Scoring a whole review\n",
    "\n",
    "This is a review from the movie reviews dataset we used last week. \n",
    "\n",
    "Run the cell below to get the scores for this movie review.\n",
    "\n",
    "**ACTIVITY:**\n",
    "Download the dataset here: https://raw.githubusercontent.com/nltk/nltk_data/gh-pages/packages/corpora/movie_reviews.zip \n",
    "\n",
    "Try some different reviews from the dataset and see what scores Vader comes up with. \n",
    "\n",
    "**QUESTION:** Are the scores correct against the actual label?"
   ]
  },
  {
   "cell_type": "code",
   "execution_count": null,
   "metadata": {},
   "outputs": [],
   "source": [
    "review = '''\n",
    "no film in recent has left me with such conflicted feelings as neil jordan's harrowing , humorous , horrifying adaptation of patrick mccabe's novel about young lad francie brady's ( eamonn owens ) descent into madness in 1960s ireland . \n",
    "on one hand , it was difficult for me to become invested in francie's story because he is such an unsavory character , unjustifyably venting his rage at his nosy but otherwise harmless neighbor mrs . nugent ( fiona shaw ) . \n",
    "on another hand , i found it difficult to laugh at some of francie's darkly comic shenanigans because he obviously is such a sick , needy child , having been raised by a drunken father ( stephen rea ) and a suicidal mother ( aisling o'sullivan ) . \n",
    "on yet another hand , i also found it difficult to completely sympathize with francie during his more emotional scenes because some of his , for lack of a better word , \" bad \" deeds are so incredibly shocking in their brutality and the malicious glee in which he performs them . \n",
    "however , the butcher boy's power is undeniable , and the film as a whole is unforgettable--perhaps because it is so disturbing . \n",
    "what makes it so unsettling is the francie's overall wink-wink yet matter-of-fact attitude about everything , expressed in a cheeky voiceover narration delivered by the adult francie ( rea again ) . \n",
    "think heavenly creatures played largely for laughs , and you'll sort of understand . \n",
    "anchoring the whole film is the astonishing debut performance of owens ; love francie or hate him , you cannot take your eyes off of owens . \n",
    "the butcher boy truly is a twisted , unusual film that is bound to make just about anyone uncomfortable . \n",
    "in the lobby after the screening , i overheard one man raving about how great yet disturbing it was ; i also heard one particularly offended woman say with disgust , \" that movie was so unfunny ! \" \n",
    " \" i didn't know what to expect . \n",
    "it's like something you chase for so long , but then you don't know how to react when you get it . \n",
    "i still don't know how to react . \" \n",
    "--michael jordan , on winning his first nba championship in 1991 . . . or , \n",
    "my thoughts after meeting him on november 21 , 1997 \n",
    "'''\n",
    "print(review)"
   ]
  },
  {
   "cell_type": "code",
   "execution_count": null,
   "metadata": {},
   "outputs": [],
   "source": [
    "vs = analyzer.polarity_scores(review)\n",
    "print(str(vs))"
   ]
  },
  {
   "cell_type": "markdown",
   "metadata": {},
   "source": [
    "The compound scores are accurate more often than not, but accuracy is not great on these long texts (around 65%). Software like Vader works better on short texts. This is what it was designed for. We can use this functionality to understand some of the problems deriving overall sentiment scores using a lexicon-based approach and some of the challenges of measuring sentiment more generally.\n",
    "\n",
    "## Looking at sentiment scores for each sentence\n",
    "\n",
    "Let’s look at an example review to think about the different frames of reference to which sentiments might be connected. The example we will use is a review of Neil Jordan’s film The Butcher Boy filename cv079_11933.txt. \n",
    "\n",
    "A descriptive statement describes the content of the film. Eg sentence 3: Francie is a “sick, needy child” - this tells us about what happens in the film.\n",
    "\n",
    "An analytic statement analyses the content of the film. \n",
    "\n",
    "Eg sentence 3: “I found it difficult to laugh at some of Francie’s darkly comic shenanigans” - here the reviewer is analysing the effects of the film.\n",
    "\n",
    "It’s not a perfect distinction, but we can observe that negative content in the film doesn’t necessarily imply a negative review of the film. Both types of statements can include evaluative language and include indications of the reviewer's point of view about the movie, but lexicon-based sentiment analysis will have difficulty if a review has a lot of “negative” content, but is nonetheless given a positive review.\n",
    "\n",
    "**ACTIVITY:** Run the following cells to get scores for each sentence."
   ]
  },
  {
   "cell_type": "code",
   "execution_count": null,
   "metadata": {},
   "outputs": [],
   "source": [
    "review = '''\n",
    "no film in recent has left me with such conflicted feelings as neil jordan's harrowing , humorous , horrifying adaptation of patrick mccabe's novel about young lad francie brady's ( eamonn owens ) descent into madness in 1960s ireland . \n",
    "on one hand , it was difficult for me to become invested in francie's story because he is such an unsavory character , unjustifyably venting his rage at his nosy but otherwise harmless neighbor mrs . nugent ( fiona shaw ) . \n",
    "on another hand , i found it difficult to laugh at some of francie's darkly comic shenanigans because he obviously is such a sick , needy child , having been raised by a drunken father ( stephen rea ) and a suicidal mother ( aisling o'sullivan ) . \n",
    "on yet another hand , i also found it difficult to completely sympathize with francie during his more emotional scenes because some of his , for lack of a better word , \" bad \" deeds are so incredibly shocking in their brutality and the malicious glee in which he performs them . \n",
    "however , the butcher boy's power is undeniable , and the film as a whole is unforgettable--perhaps because it is so disturbing . \n",
    "what makes it so unsettling is the francie's overall wink-wink yet matter-of-fact attitude about everything , expressed in a cheeky voiceover narration delivered by the adult francie ( rea again ) . \n",
    "think heavenly creatures played largely for laughs , and you'll sort of understand . \n",
    "anchoring the whole film is the astonishing debut performance of owens ; love francie or hate him , you cannot take your eyes off of owens . \n",
    "the butcher boy truly is a twisted , unusual film that is bound to make just about anyone uncomfortable . \n",
    "in the lobby after the screening , i overheard one man raving about how great yet disturbing it was ; i also heard one particularly offended woman say with disgust , \" that movie was so unfunny ! \" \n",
    " \" i didn't know what to expect . \n",
    "it's like something you chase for so long , but then you don't know how to react when you get it . \n",
    "i still don't know how to react . \" \n",
    "--michael jordan , on winning his first nba championship in 1991 . . . or , \n",
    "my thoughts after meeting him on november 21 , 1997 \n",
    "'''\n",
    "\n",
    "# this splits the review by newlines and removes any empty strings\n",
    "sentences = []\n",
    "for sentence in review.splitlines():\n",
    "    if sentence:\n",
    "        sentences.append(sentence)\n",
    "\n",
    "sentences"
   ]
  },
  {
   "cell_type": "code",
   "execution_count": null,
   "metadata": {},
   "outputs": [],
   "source": [
    "df = pd.DataFrame(columns=['sentence','neg','neu','pos','compound'])\n",
    "for sentence in sentences:\n",
    "    vs = analyzer.polarity_scores(sentence)\n",
    "    vs['sentence'] = sentence\n",
    "    df = df.append(dict(vs), ignore_index=True)\n",
    "\n",
    "df"
   ]
  },
  {
   "cell_type": "markdown",
   "metadata": {},
   "source": [
    "**ACTIVITY:** Look closely at each sentence and work out which ones relate to the reviewer's evaluation of the movie. \n",
    "\n",
    "**QUESTION:** Is Vader doing a good job of scoring these sentences?\n",
    "\n",
    "**ACTIVITY:** \n",
    "Try this with another review. You will need to replace the review text using one of the reviews from the movie reviews dataset you downloaded above and rerun the cells. Look carefully at the positively and negatively evaluated sentences using the compound score. \n",
    "\n",
    "**QUESTION:** \n",
    "From this analysis, what challenges do you see in correctly assigning overall sentiment scores to movie reviews?\n",
    "\n",
    "**ACTIVITY:** \n",
    "In class this week we discussed how sentiment analysis might not be an appropriate technique for analysing some kinds of texts. For example, some texts are not primarily about presenting a point of view or evaluation (e.g. journalistic texts, scientific writing) and authors/speakers don't always present their evaluations in a straightforward way (e.g. some political texts).  \n",
    "\n",
    "Take some time to explore some different kinds of texts (e.g. editorials, fiction, tweets, news articles, political speeches, texts from the corpus you built for the Corpus Building Project). Vader will tend to perform better with short texts, so make sure you try texts of different lengths.\n",
    "\n",
    "**QUESTION:** \n",
    "How does Vader perform on different kinds of texts? What kinds of texts are challenging for a lexicon-based approach to sentiment analysis? What kinds of texts are not appropriate for sentiment analysis?"
   ]
  },
  {
   "cell_type": "markdown",
   "metadata": {},
   "source": [
    "**This is it for the labs for DIGI405! Before you go today – make sure you thank your tutors for all their help and support during the course!**"
   ]
  },
  {
   "cell_type": "code",
   "execution_count": null,
   "metadata": {},
   "outputs": [],
   "source": []
  }
 ],
 "metadata": {
  "kernelspec": {
   "display_name": "Python 3",
   "language": "python",
   "name": "python3"
  },
  "language_info": {
   "codemirror_mode": {
    "name": "ipython",
    "version": 3
   },
   "file_extension": ".py",
   "mimetype": "text/x-python",
   "name": "python",
   "nbconvert_exporter": "python",
   "pygments_lexer": "ipython3",
   "version": "3.8.5"
  }
 },
 "nbformat": 4,
 "nbformat_minor": 2
}
